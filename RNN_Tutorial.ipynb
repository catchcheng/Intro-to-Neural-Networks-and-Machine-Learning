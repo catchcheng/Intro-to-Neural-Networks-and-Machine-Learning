{
 "cells": [
  {
   "cell_type": "markdown",
   "metadata": {},
   "source": [
    "# Introducing RNNs and LSTMs"
   ]
  },
  {
   "cell_type": "code",
   "execution_count": 2,
   "metadata": {},
   "outputs": [],
   "source": [
    "import sys\n",
    "# sys.path.append('/Users/ssydasheng/anaconda3/envs/cp3/lib/python3.6/site-packages')\n",
    "import autograd\n",
    "import autograd.misc.optimizers as optim\n",
    "# from autograd import optimizers as optim\n",
    "import autograd.numpy as np\n",
    "from autograd import grad\n",
    "\n",
    "import matplotlib.pyplot as plt\n",
    "%matplotlib inline"
   ]
  },
  {
   "cell_type": "markdown",
   "metadata": {},
   "source": [
    "## Resources\n",
    "\n",
    "You may find the following resources helpful for understanding how RNNs and LSTMs work:\n",
    "\n",
    "* [The Unreasonable Effectiveness of RNNs (Andrej Karpathy)](http://karpathy.github.io/2015/05/21/rnn-effectiveness/)\n",
    "* [Recurrent Neural Networks Tutorial (Wild ML)](http://www.wildml.com/2015/09/recurrent-neural-networks-tutorial-part-1-introduction-to-rnns/)\n",
    "* [Understanding LSTM Networks (Chris Olah)](http://colah.github.io/posts/2015-08-Understanding-LSTMs/)"
   ]
  },
  {
   "cell_type": "markdown",
   "metadata": {},
   "source": [
    "## Character-Level Language Model"
   ]
  },
  {
   "cell_type": "code",
   "execution_count": 3,
   "metadata": {},
   "outputs": [
    {
     "name": "stdout",
     "output_type": "stream",
     "text": [
      "------------------------------\n",
      "First Citizen:\n",
      "Before we proceed any further, hear me speak.\n",
      "\n",
      "All:\n",
      "Speak, speak.\n",
      "\n",
      "First Citizen:\n",
      "You\n",
      "The vocabulary contains ['\\n', '!', ' ', '$', \"'\", '&', '-', ',', '.', '3', ';', ':', '?', 'A', 'C', 'B', 'E', 'D', 'G', 'F', 'I', 'H', 'K', 'J', 'M', 'L', 'O', 'N', 'Q', 'P', 'S', 'R', 'U', 'T', 'W', 'V', 'Y', 'X', 'Z', 'a', 'c', 'b', 'e', 'd', 'g', 'f', 'i', 'h', 'k', 'j', 'm', 'l', 'o', 'n', 'q', 'p', 's', 'r', 'u', 't', 'w', 'v', 'y', 'x', 'z']\n",
      "------------------------------\n",
      "TOTAL NUM CHARACTERS = 1115394\n",
      "NUM UNIQUE CHARACTERS = 65\n",
      "char_to_index {'\\n': 0, '!': 1, ' ': 2, '$': 3, \"'\": 4, '&': 5, '-': 6, ',': 7, '.': 8, '3': 9, ';': 10, ':': 11, '?': 12, 'A': 13, 'C': 14, 'B': 15, 'E': 16, 'D': 17, 'G': 18, 'F': 19, 'I': 20, 'H': 21, 'K': 22, 'J': 23, 'M': 24, 'L': 25, 'O': 26, 'N': 27, 'Q': 28, 'P': 29, 'S': 30, 'R': 31, 'U': 32, 'T': 33, 'W': 34, 'V': 35, 'Y': 36, 'X': 37, 'Z': 38, 'a': 39, 'c': 40, 'b': 41, 'e': 42, 'd': 43, 'g': 44, 'f': 45, 'i': 46, 'h': 47, 'k': 48, 'j': 49, 'm': 50, 'l': 51, 'o': 52, 'n': 53, 'q': 54, 'p': 55, 's': 56, 'r': 57, 'u': 58, 't': 59, 'w': 60, 'v': 61, 'y': 62, 'x': 63, 'z': 64}\n"
     ]
    }
   ],
   "source": [
    "# Load the Shakespeare text\n",
    "with open('data/shakespeare.txt', 'r') as f:\n",
    "    text = f.read()\n",
    "\n",
    "print(\"------------------------------\")\n",
    "# Print a sample of the text\n",
    "print(text[:100])\n",
    "data_length = len(text)\n",
    "vocab = list(set(text))\n",
    "vocab_size = len(vocab)   # + 1      # The extra + 1 is for the end-of-string token\n",
    "\n",
    "char_to_index = { char:index for (index,char) in enumerate(vocab) }\n",
    "index_to_char = { index:char for (index,char) in enumerate(vocab) }\n",
    "\n",
    "print(\"The vocabulary contains {}\".format(vocab))\n",
    "print(\"------------------------------\")\n",
    "print(\"TOTAL NUM CHARACTERS = {}\".format(data_length))\n",
    "print(\"NUM UNIQUE CHARACTERS = {}\".format(vocab_size))\n",
    "print('char_to_index {}'.format(char_to_index))"
   ]
  },
  {
   "cell_type": "markdown",
   "metadata": {},
   "source": [
    "## RNN\n",
    "\n",
    "![Recurrent Neural Network Diagram](data/rnn.jpg)\n",
    "(Image from the [Wild ML RNN Tutorial](http://www.wildml.com/2015/09/recurrent-neural-networks-tutorial-part-1-introduction-to-rnns/))\n",
    "\n",
    "The update of an RNN is expressed by the following formulas:\n",
    "\n",
    "$$\n",
    "h_t = \\tanh(U x_t + W h_{t-1} + b_h)\n",
    "$$\n",
    "\n",
    "$$\n",
    "y_t = \\text{softmax}(V h_t + b_y)\n",
    "$$\n",
    "\n",
    "Here, each $x_t$ is a _character_---in this example, there are 65 unique characters. Since in each step the model takes as input a character and outputs a prediction for the next character in the sequence, both $x_t$ and $o_t$ are 65-dimensional vectors, i.e., $x_t, o_t \\in \\mathbb{R}^{65}$. We can choose any dimension for the hidden state $h_t$; in this case, we will use $h_t \\in \\mathbb{R}^{100}$. With this setup, the dimensions of $U$, $W$, and $V$ are $100 \\times 65$, $100 \\times 100$, and $65 \\times 100$, respectively."
   ]
  },
  {
   "cell_type": "markdown",
   "metadata": {},
   "source": [
    "For a vector $\\mathbf{x}$, we have:\n",
    "\n",
    "$$\n",
    "\\text{softmax}(\\mathbf{x})_i = \\frac{e^{\\mathbf{x}_i}}{\\sum_j e^{\\mathbf{x}_j}}\n",
    "$$"
   ]
  },
  {
   "cell_type": "code",
   "execution_count": 4,
   "metadata": {},
   "outputs": [],
   "source": [
    "# Numerically stable version\n",
    "def softmax(x):\n",
    "    exponential = np.exp(x - np.max(x))\n",
    "    return exponential / np.sum(exponential)"
   ]
  },
  {
   "cell_type": "code",
   "execution_count": 5,
   "metadata": {},
   "outputs": [],
   "source": [
    "def initialize_params(input_size, hidden_size, output_size):\n",
    "    params = {\n",
    "        'U': np.random.randn(hidden_size, input_size) * 0.01,\n",
    "        'W': np.random.randn(hidden_size, hidden_size) * 0.01,\n",
    "        'V': np.random.randn(output_size, hidden_size) * 0.01,\n",
    "        'b_h': np.zeros(hidden_size),\n",
    "        'b_o': np.zeros(output_size)\n",
    "    }\n",
    "    return params"
   ]
  },
  {
   "cell_type": "code",
   "execution_count": 6,
   "metadata": {},
   "outputs": [],
   "source": [
    "def initialize_hidden(hidden_size):\n",
    "    return np.zeros(hidden_size)"
   ]
  },
  {
   "cell_type": "code",
   "execution_count": 7,
   "metadata": {},
   "outputs": [],
   "source": [
    "def model(params, x, h_prev):\n",
    "    h = # TODO\n",
    "    y = # TODO\n",
    "    return y, h"
   ]
  },
  {
   "cell_type": "code",
   "execution_count": 8,
   "metadata": {},
   "outputs": [],
   "source": [
    "def criterion(output, target):\n",
    "    \"\"\"Negative log-likelihood loss. Useful for training a classification problem with n classes.\n",
    "    \"\"\"\n",
    "    output = np.log(output)\n",
    "    return -output[target]"
   ]
  },
  {
   "cell_type": "code",
   "execution_count": 9,
   "metadata": {},
   "outputs": [],
   "source": [
    "def loss(params, input_seq, target_seq, opts):\n",
    "    \"\"\"\n",
    "    Compute the loss of RNN based on data.\n",
    "    \n",
    "    :param params: dict of str: tensor, including keys U, W, v, b_h, b_o.\n",
    "    :param input_seq: list of str. Input string.\n",
    "    :param target_seq: list of str. Target string.\n",
    "    :param opts: dict of str: int. Including keys input_size, hidden_size, output_size.\n",
    "    \n",
    "    :return final_string: str. \n",
    "    \"\"\"\n",
    "    hidden = initialize_hidden(opts['hidden_size'])\n",
    "    loss = 0\n",
    "    \n",
    "    for i in range(len(input_seq)):\n",
    "        #TODO\n",
    "    return loss"
   ]
  },
  {
   "cell_type": "code",
   "execution_count": 10,
   "metadata": {},
   "outputs": [],
   "source": [
    "loss_grad = grad(loss)"
   ]
  },
  {
   "cell_type": "markdown",
   "metadata": {},
   "source": [
    "```\n",
    "def sgd(grad, init_params, callback=None, num_iters=200, step_size=0.1, mass=0.9):\n",
    "    \"\"\"Stochastic gradient descent with momentum.\n",
    "    grad() must have signature grad(x, i), where i is the iteration number.\"\"\"\n",
    "```"
   ]
  },
  {
   "cell_type": "code",
   "execution_count": 11,
   "metadata": {},
   "outputs": [],
   "source": [
    "def create_one_hot(j, length):\n",
    "    vec = np.zeros(length)\n",
    "    vec[j] = 1\n",
    "    return vec"
   ]
  },
  {
   "cell_type": "code",
   "execution_count": 12,
   "metadata": {},
   "outputs": [],
   "source": [
    "def sample(params, initial, length, opts):\n",
    "    \"\"\"\n",
    "    Sampling a string with a Recurrent neural network.\n",
    "    \n",
    "    :param params: dict of str: tensor, including keys U, W, v, b_h, b_o\n",
    "    :param initial: str. Beginning character.\n",
    "    :param length: length of the generated string.\n",
    "    :param opts: dict of str: int. Including keys input_size, hidden_size, output_size.\n",
    "    \n",
    "    :return final_string: str. \n",
    "    \"\"\"\n",
    "    hidden = initialize_hidden(opts['hidden_size'])\n",
    "    current_char = initial\n",
    "    final_string = initial\n",
    "    \n",
    "    for i in range(length):\n",
    "        x = create_one_hot(char_to_index[current_char], opts['input_size'])\n",
    "        output, hidden = model(params, x, hidden)\n",
    "        \n",
    "        p = output\n",
    "        current_index = np.random.choice(range(vocab_size), p=p.ravel())\n",
    "        current_char = index_to_char[current_index]\n",
    "        final_string += current_char\n",
    "    \n",
    "    return final_string"
   ]
  },
  {
   "cell_type": "code",
   "execution_count": 13,
   "metadata": {},
   "outputs": [],
   "source": [
    "def main():\n",
    "    # Use non-overlapping 25-character chunks for training\n",
    "    sequence_length = 50\n",
    "    num_epochs = 1\n",
    "    print_every = 100\n",
    "    evaluate_every = 100\n",
    "    lr = 1e-2\n",
    "\n",
    "    opts = {\n",
    "        'input_size': vocab_size,\n",
    "        'hidden_size': 100,\n",
    "        'output_size': vocab_size,\n",
    "    }\n",
    "\n",
    "    params = initialize_params(opts['input_size'], opts['hidden_size'], opts['output_size'])\n",
    "\n",
    "    for ep in range(num_epochs):\n",
    "        # i = 0\n",
    "        # while i * sequence_length + 1 < 10000:\n",
    "        for i in range(data_length // sequence_length):\n",
    "            start = i * sequence_length\n",
    "            end = start + sequence_length + 1\n",
    "            chunk = text[start:end]\n",
    "\n",
    "            input_chars = chunk[:-1]\n",
    "            target_chars = chunk[1:]\n",
    "\n",
    "            input_seq = [char_to_index[c] for c in input_chars]\n",
    "            target_seq = [char_to_index[c] for c in target_chars]\n",
    "\n",
    "            input_seq_one_hot = [create_one_hot(j, vocab_size) for j in input_seq]\n",
    "\n",
    "            example_loss = loss(params, input_seq_one_hot, target_seq, opts)\n",
    "\n",
    "            grad_params = loss_grad(params, input_seq_one_hot, target_seq, opts)\n",
    "            for param in params:\n",
    "                gradient = np.clip(grad_params[param], -5, 5)\n",
    "                params[param] -= lr * gradient\n",
    "\n",
    "            if i % print_every == 0:\n",
    "                print(\"LOSS = {}\".format(example_loss))\n",
    "                # print(grad_params)\n",
    "\n",
    "            if i % evaluate_every == 0:\n",
    "                sampled_string = sample(params, initial='a', length=100, opts=opts)\n",
    "                print(sampled_string)\n",
    "\n",
    "            # i += 1"
   ]
  },
  {
   "cell_type": "code",
   "execution_count": null,
   "metadata": {},
   "outputs": [
    {
     "name": "stdout",
     "output_type": "stream",
     "text": [
      "LOSS = 208.717570493\n",
      "a&paFd:DIwtFn zFaH3D;FKa-FkdJoy3vddZw!E?? -zTi-ItL',SSu3uRkUI&y\n",
      "\n",
      "TkpUh??\n",
      "wSloXqFiP\n",
      "!ghMYTArThMIPoHtWx\n",
      "LOSS = 149.677401379\n",
      "awwhar, rlsd  cal un\n",
      "t\n",
      "  t lel ,euXhee ocrStm\n",
      "a\n",
      "anReh  ttwas nnetoh cAev ns:heos  la h ech tcr  coeyo\n",
      "LOSS = 146.214152736\n",
      "aoYeh w v Nnid.Milni\n",
      "an\n",
      " m,se  tar\n",
      ";i vhosuu lel thi lDtohmriotiX\n",
      "t IeWarL ahatrro 'nttk riso grngu t\n",
      "LOSS = 135.788588104\n",
      "ao\n",
      "InuUd yanorehl  otowd thgrod Clo oI os i old msae\n",
      "me s esia\n",
      " eST\n",
      "doWit her -s here ns ani hon, niy\n",
      "LOSS = 133.54762474\n",
      "aW yoy mm ilmp d 'l fis. shoS;vheamen ar m dimyaiZ oa. iiwe bind;, monye afe I?e iup arde.J\n",
      "\n",
      "VIYIU,o:\n",
      "LOSS = 114.846678727\n",
      "ars ssers yes uiv ros thon ineis anthesg ffou arf eod the thano\n",
      "FByX:\n",
      "P'$ be hos. lors Hreust ior hlm\n",
      "LOSS = 124.211581669\n",
      "ads.\n",
      "CAUIP:I\n",
      "RAouRranes, she shen d pop theus. bopasens char sore hheerre se. thir,\n",
      ":e hand go sos,\n",
      "T\n",
      "LOSS = 101.704484914\n",
      "ar if ot, thev, IN bot hovd do y, dats thelder? therd thaf chard paret ty t tie to chin baalgs Mol m \n",
      "LOSS = 100.109565064\n",
      "ather ho wome ane. po me k noule har ir yoD wiwthe h troy isY youe 'fntha man yo nouagrof tho; Mrme b\n"
     ]
    }
   ],
   "source": [
    "main()"
   ]
  },
  {
   "cell_type": "markdown",
   "metadata": {},
   "source": [
    "## Long Short-Term Memory Networks (LSTMs)\n",
    "\n",
    "![Long Short-Term Memory Networks Diagram](data/LSTM.png)\n",
    "(Image from the [LSTM Tutorial](http://colah.github.io/posts/2015-08-Understanding-LSTMs/))"
   ]
  },
  {
   "cell_type": "markdown",
   "metadata": {},
   "source": [
    "The update of an LSTM is given by the following equations:\n",
    "\n",
    "$$\n",
    "i_t = \\sigma(U_i x_t + W_i h_{t-1} + b_i)\n",
    "$$\n",
    "\n",
    "$$\n",
    "f_t = \\sigma(U_f x_t + W_f h_{t-1} + b_f)\n",
    "$$\n",
    "\n",
    "$$\n",
    "o_t = \\sigma(U_o x_t + W_o h_{t-1} + b_o)\n",
    "$$\n",
    "\n",
    "$$\n",
    "\\tilde{C}_t = \\tanh(U_C x_t + W_C h_{t-1} + b_C)\n",
    "$$\n",
    "\n",
    "$$\n",
    "C_t = i_t * \\tilde{C}_t + f_t * C_{t-1}\n",
    "$$\n",
    "\n",
    "$$\n",
    "h_t = o_t * \\tanh(C_t)\n",
    "$$\n"
   ]
  },
  {
   "cell_type": "code",
   "execution_count": null,
   "metadata": {},
   "outputs": [],
   "source": [
    "def initialize_params(input_size, hidden_size, output_size):\n",
    "    params = {\n",
    "        'U_i': np.random.randn(hidden_size, input_size) * 0.01,\n",
    "        'W_i': np.random.randn(hidden_size, hidden_size) * 0.01,\n",
    "        'b_i': np.zeros(hidden_size),\n",
    "        \n",
    "        'U_f': np.random.randn(hidden_size, input_size) * 0.01,\n",
    "        'W_f': np.random.randn(hidden_size, hidden_size) * 0.01,\n",
    "        'b_f': np.zeros(hidden_size),\n",
    "        \n",
    "        'U_o': np.random.randn(hidden_size, input_size) * 0.01,\n",
    "        'W_o': np.random.randn(hidden_size, hidden_size) * 0.01,\n",
    "        'b_o': np.zeros(hidden_size),\n",
    "        \n",
    "        'U_c': np.random.randn(hidden_size, input_size) * 0.01,\n",
    "        'W_c': np.random.randn(hidden_size, hidden_size) * 0.01,\n",
    "        'b_c': np.zeros(hidden_size),\n",
    "        \n",
    "        'V': np.random.randn(output_size, hidden_size) * 0.01,\n",
    "        'b': np.zeros(output_size)\n",
    "    }\n",
    "    return params"
   ]
  },
  {
   "cell_type": "code",
   "execution_count": 86,
   "metadata": {
    "collapsed": true
   },
   "outputs": [],
   "source": [
    "def sigmoid(x):\n",
    "    return 1. / (1 + np.exp(-x))\n",
    "def model(params, x, h_prev, C_prev):\n",
    "    i_t = #TODO\n",
    "    f_t = #TODO\n",
    "    o_t = #TODO\n",
    "    \n",
    "    C_t_tilde = #TODO\n",
    "    C_t = #TODO\n",
    "    h_t = #TODO\n",
    "    \n",
    "    y = #TODO\n",
    "    return y, h_t, C_t"
   ]
  },
  {
   "cell_type": "code",
   "execution_count": 87,
   "metadata": {
    "collapsed": true
   },
   "outputs": [],
   "source": [
    "def initialize_hidden(hidden_size):\n",
    "    return np.zeros(hidden_size), np.zeros(hidden_size)"
   ]
  },
  {
   "cell_type": "code",
   "execution_count": 88,
   "metadata": {
    "collapsed": true
   },
   "outputs": [],
   "source": [
    "def loss(params, input_seq, target_seq, opts):\n",
    "    \"\"\"\n",
    "    Compute the loss of RNN based on data.\n",
    "    \n",
    "    :param params: dict of str: tensor, including keys U, W, v, b_h, b_o.\n",
    "    :param input_seq: list of str. Input string.\n",
    "    :param target_seq: list of str. Target string.\n",
    "    :param opts: dict of str: int. Including keys input_size, hidden_size, output_size.\n",
    "    \n",
    "    :return final_string: str. \n",
    "    \"\"\"\n",
    "    hidden, cell = initialize_hidden(opts['hidden_size'])\n",
    "    loss = 0\n",
    "    \n",
    "    for i in range(len(input_seq)):\n",
    "        #TODO\n",
    "    return loss\n",
    "\n",
    "loss_grad = grad(loss)"
   ]
  },
  {
   "cell_type": "code",
   "execution_count": 89,
   "metadata": {
    "collapsed": true
   },
   "outputs": [],
   "source": [
    "def sample(params, initial, length, opts):\n",
    "    \"\"\"\n",
    "    Sampling a string with a Recurrent neural network.\n",
    "    \n",
    "    :param params: dict of str: tensor, including keys U, W, v, b_h, b_o\n",
    "    :param initial: str. Beginning character.\n",
    "    :param length: length of the generated string.\n",
    "    :param opts: dict of str: int. Including keys input_size, hidden_size, output_size.\n",
    "    \n",
    "    :return final_string: str. \n",
    "    \"\"\"\n",
    "    hidden, cell = initialize_hidden(opts['hidden_size'])\n",
    "    current_char = initial\n",
    "    final_string = initial\n",
    "    \n",
    "    for i in range(length):\n",
    "        x = create_one_hot(char_to_index[current_char], opts['input_size'])\n",
    "        output, hidden, cell = model(params, x, hidden, cell)\n",
    "        \n",
    "        p = output\n",
    "        current_index = np.random.choice(range(vocab_size), p=p.ravel())\n",
    "        current_char = index_to_char[current_index]\n",
    "        final_string += current_char\n",
    "    \n",
    "    return final_string"
   ]
  },
  {
   "cell_type": "code",
   "execution_count": null,
   "metadata": {},
   "outputs": [
    {
     "name": "stdout",
     "output_type": "stream",
     "text": [
      "LOSS = 208.71701201159402\n",
      "aIDzPFQ;tktFfjVie--.gy zigGDSUCox'T$RQmnFh?e$bpZyDc\n",
      "e'&N;mletezWpcsUQcGoZwGaw3-seq LQ,bAXjl wVzkKtRVI\n",
      "LOSS = 157.0608221025338\n",
      "aIeslitQehaKM oprMfScNki\n",
      "eKtyU? xnetnoh\n",
      "uqVs c3o MaSt;W3  el keer r$ i:iIts pe  ZaQo ea orhnhi deYej-\n",
      "LOSS = 155.82930581815046\n",
      "aih iadete ZHah\n",
      "&Z rew\n",
      "nbaadiiezST hmtleiOpu frUolbe L eetCs Xllh sR othrIe tBc hhiwr: Spwu'c  iclt e\n",
      "LOSS = 154.89422064955778\n",
      "ae h ee r pf  'onrglonlho u'h:\n",
      "-ioho klosssyhlshhehui\n",
      "tt.edSrt;deifdmsfnmi u e s toowhS nslifHCtimuhn\n",
      "LOSS = 171.95349774193747\n",
      "aaX\n",
      "'\n",
      "Jdum  fh3iupt,twiehI ae folrysoEltaoI .,ihIetflRh  aA,\n",
      "- hceun uIC!?bA\n",
      "relr\n",
      "hLioy IRpi n Ajlo:h\n",
      "LOSS = 156.55424390462903\n",
      "ae he. rhs w\n",
      "mrl pcu sghafotorans it hvahlTs\n",
      "tedosih lay3ew \n",
      "eoumsu aeis asyr Aoh os vi s roAt.  ohh \n",
      "LOSS = 150.09877143822618\n",
      "aHEaishyte recawrsN ts oos\n",
      " eah kaemabh; oto i\n",
      "seru ehrfIe flyVse re thm,nhagsee cRoedbcRwoNhi'\n",
      "trlk:\n",
      "LOSS = 144.21268876246899\n",
      "atUMeIO I,sr, e httf :ho emoro or, \n",
      "eooet nTTofpoaurIl\n",
      " 'erbeawunmyMvp m .ee somhe\n",
      "io abd eg dhnse  d\n",
      "LOSS = 168.78332929006555\n",
      "a e woImosdlshW siisew os rghe a t\n",
      "h oo:tiidootSoelno,nol\n",
      ",Smes hsoyietonloue auwiirdot re hbfNe o Kg\n",
      "LOSS = 143.9709815386821\n",
      "aoon inod srge tra thaer lee t. tu: hpierr tds lma:D ftHeced\n",
      " !eada\n",
      "nIoenN;o ohAnsVetl\n",
      "?ls oQC pion i\n",
      "LOSS = 141.72794049771483\n",
      "aed sSQdo chue oese\n",
      "mt, ubiy ho hafs no'e h\n",
      "nt\n",
      "t\n",
      "te e hh ehat\n",
      "thh\n",
      "utTEewts trd hhraeo a hhSu yo ak wd\n",
      "LOSS = 135.08731992218372\n",
      "aase tt so iowd uTmet tp he has mor the ftoc oeer 'e y m,nod se waorb trhu\n",
      "d tot'en.\n",
      "hei' Mvuk\n",
      " theo \n",
      "LOSS = 152.10790357920706\n",
      "abawi'hA\n",
      "C;hStit mocugitomoceide soul: tauLdt loutl, das fps'th chate podog\n",
      "co toto Usists uoreMeUoh \n",
      "LOSS = 134.01522277838043\n",
      "ans\n",
      "UaVh eo mes hos\n",
      "Rt lasarceny ihe Sosd sonfca. hheng pe sounpe wacoyleoteI Rof tuu uurs Cod yorito\n",
      "LOSS = 134.32839071106477\n",
      "aNolt liv re, lhawsunaWin nf mor urgeitho U weed vs:dinr.t fonrleat oon sgenv cinainllos eitianunu:??\n",
      "LOSS = 141.8118676981399\n",
      "as:r\n",
      "Tk wotnet non' ceew\n",
      "Safy war k pt wmere,\n",
      "SS oiwe\n",
      "SpRwMZ\n",
      "tRhl, wv cuf, ensd t mose pas bat tha co\n",
      "LOSS = 120.85647823237741\n",
      "ats Codisgong woout he yyes harat pe pulSthege,\n",
      "\n",
      "TefiltSnthem.\n",
      "\n",
      "WiIATWIUy\n",
      "CASPU: fiminy bamither'nt b\n",
      "LOSS = 132.8592689623518\n",
      "ar whi? kha;cey\n",
      "Welp:\n",
      "Nr:\n",
      "VCCPC\n",
      "SNEUR\n",
      "WireS.\n",
      "IOOESUOU:\n",
      "OMOU:A\n",
      "HII\n",
      "AM:\n",
      "IMIT:\n",
      "\n",
      "TMwS\n",
      "SNUOnUU\n",
      "CUO\n",
      "IULUL:\n",
      "\n",
      "LOSS = 115.85945797270584\n",
      "aisteolgey thomte 'arowe the whyghel?\n",
      "Andin On iisreI: Bwm, ad gsevg maret, weuther yort ast weiole m\n",
      "LOSS = 118.80231675246262\n",
      "aO, thon, owey\n",
      "nother fowresfimy we nor pit indi, fou's he threracon, srpofephannonad sofs?e- peom in\n",
      "LOSS = 125.22806798058828\n",
      "ag, han fotens\n",
      "O'RUyoAe:\n",
      "\n",
      "AoOOIoS:\n",
      "Thon otoud\n",
      "IFIOS\n",
      "ISIFINLon,\n",
      "ha-sl!\n",
      "CIUIRNIIUS,\n",
      "\n",
      "IRCI'LDins.\n",
      "\n",
      "I:OUI\n",
      "LOSS = 134.64383003885203\n",
      "ace thes th ot tone thellle potiinhes-ew tilidt ls hlide sesit hl dure\n",
      "I thoen womit th is heidons tn\n",
      "LOSS = 129.00656989088966\n",
      "atey\n",
      "T'ly I wovame werderis givinein hascirlanle, afd intey st cath shou bepme andyiteno thiud thou t\n",
      "LOSS = 108.35580032696677\n",
      "asd tot ar hecgaene femar, meam-\n",
      "Anlreply ghet cirs fo, anre sos toure as os, efirerenan, nfisgeto ce\n",
      "LOSS = 122.15554209663424\n",
      "ame apo tht kerleL\n",
      "\n",
      "DOnore nam weo woune cou aad nure mac:\n",
      "Ehe fere?\n",
      "\n",
      "Hrine teud !es ald\n",
      "Lufnenthoe t\n",
      "LOSS = 115.9447132652472\n",
      "arnbyave six ou nolen.\n",
      "\n",
      "Sesebot coul wiand srr ang. and ans enthon,\n",
      "Yo thars ntouUWors hin harerlerS:\n"
     ]
    }
   ],
   "source": [
    "main()"
   ]
  },
  {
   "cell_type": "markdown",
   "metadata": {},
   "source": [
    "## Gated Recurrent Units (GRU)"
   ]
  },
  {
   "cell_type": "code",
   "execution_count": null,
   "metadata": {
    "collapsed": true
   },
   "outputs": [],
   "source": []
  }
 ],
 "metadata": {
  "kernelspec": {
   "display_name": "Python 3",
   "language": "python",
   "name": "python3"
  },
  "language_info": {
   "codemirror_mode": {
    "name": "ipython",
    "version": 2
   },
   "file_extension": ".py",
   "mimetype": "text/x-python",
   "name": "python",
   "nbconvert_exporter": "python",
   "pygments_lexer": "ipython2",
   "version": "2.7.14"
  }
 },
 "nbformat": 4,
 "nbformat_minor": 2
}
